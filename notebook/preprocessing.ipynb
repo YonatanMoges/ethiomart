{
 "cells": [
  {
   "cell_type": "code",
   "execution_count": 1,
   "metadata": {},
   "outputs": [
    {
     "name": "stdout",
     "output_type": "stream",
     "text": [
      "Cleaned data saved to ../data/cleaned_telegram_data.csv\n"
     ]
    }
   ],
   "source": [
    "import pandas as pd\n",
    "\n",
    "import sys\n",
    "import os\n",
    "sys.path.insert(0,os.path.abspath(\"../scripts\"))\n",
    "import preprocessing as pre\n",
    "import importlib\n",
    "importlib.reload(pre)\n",
    "\n",
    "# Paths to input and output CSV files\n",
    "input_csv_path = '../data/telegram_data.csv'  # Update this with your actual path\n",
    "output_csv_path = '../data/cleaned_telegram_data.csv'\n",
    "\n",
    "# Clean the DataFrame by extracting only Amharic text\n",
    "pre.clean_dataframe_with_linebreaks(input_csv_path, output_csv_path)\n",
    "\n",
    "print(f\"Cleaned data saved to {output_csv_path}\")\n"
   ]
  },
  {
   "cell_type": "code",
   "execution_count": 2,
   "metadata": {},
   "outputs": [
    {
     "name": "stdout",
     "output_type": "stream",
     "text": [
      "      Channel Title  Channel Username    ID  \\\n",
      "0  Standard kitchen  @standardkitchen  5988   \n",
      "1  Standard kitchen  @standardkitchen  5987   \n",
      "2  Standard kitchen  @standardkitchen  5985   \n",
      "3  Standard kitchen  @standardkitchen  5984   \n",
      "4  Standard kitchen  @standardkitchen  5981   \n",
      "\n",
      "                                             Message  \\\n",
      "0                                                      \n",
      "1   4 \\n\\n አነስተኛ የልብስ እና የጫማ ማጠቢያ ማሽን \\n ለቲሸርት፣ ለ...   \n",
      "2   \\n\\n \\n 385 \\n \\n \\n \\n \\n \\n\\n ዋጋ፦ 350 ብር\\n\\...   \n",
      "3                                                      \n",
      "4   ዘመናዊ የልብስ ማስቀመጫ ቁምሳጥን \\nአልቆል የተባላቹ ባለ 3ቱ ገብቶል...   \n",
      "\n",
      "                        Date                               Media Path  \n",
      "0  2024-09-26 17:17:50+00:00  ./data/photos\\@standardkitchen_5988.jpg  \n",
      "1  2024-09-26 08:13:33+00:00  ./data/photos\\@standardkitchen_5987.jpg  \n",
      "2  2024-09-25 07:14:37+00:00                                      NaN  \n",
      "3  2024-09-25 07:14:37+00:00  ./data/photos\\@standardkitchen_5984.jpg  \n",
      "4  2024-09-24 07:31:43+00:00  ./data/photos\\@standardkitchen_5981.jpg  \n"
     ]
    }
   ],
   "source": [
    "# Display the cleaned data\n",
    "cleaned_df = pd.read_csv(output_csv_path)\n",
    "print(cleaned_df.head())  # Show first few rows of the cleaned data"
   ]
  },
  {
   "cell_type": "code",
   "execution_count": 3,
   "metadata": {},
   "outputs": [],
   "source": [
    "df = pd.read_csv('../data/cleaned_telegram_data.csv') # Load your dataset\n",
    "pre.label_entities_conll_with_linebreaks(df)\n"
   ]
  },
  {
   "cell_type": "code",
   "execution_count": 4,
   "metadata": {},
   "outputs": [
    {
     "name": "stdout",
     "output_type": "stream",
     "text": [
      "\n",
      "\n",
      "4 O\n",
      "\n",
      "\n",
      "አነስተኛ O\n",
      "የልብስ O\n",
      "እና O\n",
      "የጫማ O\n",
      "ማጠቢያ O\n",
      "ማሽን O\n",
      "\n",
      "ለቲሸርት O\n",
      "ለጂንስ O\n",
      "ለሹራብ O\n",
      "ለልጆች O\n",
      "ዩኒፎርም O\n",
      "ለጫማ O\n",
      "ወዘተ O\n",
      "\n",
      "\n",
      "\n",
      "በተጨማሪም O\n",
      "ጫማ O\n",
      "ማጠቢያ O\n",
      "ቡሩሽ O\n",
      "ያለው O\n",
      "\n",
      "የራሱ O\n",
      "የብረት O\n"
     ]
    }
   ],
   "source": [
    "# Displaying labeled data (first few tokens)\n",
    "with open('../data/labeled_data.conll', 'r', encoding='utf-8') as file:\n",
    "    lines = file.readlines()\n",
    "    for i, line in enumerate(lines[:30]):  # Display the first 30 lines\n",
    "        print(line.strip())"
   ]
  }
 ],
 "metadata": {
  "language_info": {
   "name": "python"
  }
 },
 "nbformat": 4,
 "nbformat_minor": 2
}
