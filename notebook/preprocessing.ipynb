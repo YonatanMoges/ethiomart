{
 "cells": [
  {
   "cell_type": "code",
   "execution_count": 2,
   "metadata": {},
   "outputs": [
    {
     "name": "stdout",
     "output_type": "stream",
     "text": [
      "Cleaned data saved to ../data/cleaned_telegram_data.csv\n"
     ]
    }
   ],
   "source": [
    "import pandas as pd\n",
    "\n",
    "import sys\n",
    "import os\n",
    "sys.path.insert(0,os.path.abspath(\"../scripts\"))\n",
    "import preprocessing as pre\n",
    "import importlib\n",
    "importlib.reload(pre)\n",
    "\n",
    "# Paths to input and output CSV files\n",
    "input_csv_path = '../data/telegram_data.csv'  # Update this with your actual path\n",
    "output_csv_path = '../data/cleaned_telegram_data.csv'\n",
    "\n",
    "# Clean the DataFrame by extracting only Amharic text\n",
    "pre.clean_dataframe_with_linebreaks(input_csv_path, output_csv_path)\n",
    "\n",
    "print(f\"Cleaned data saved to {output_csv_path}\")\n"
   ]
  },
  {
   "cell_type": "code",
   "execution_count": 3,
   "metadata": {},
   "outputs": [],
   "source": [
    "df = pd.read_csv('../data/cleaned_telegram_data.csv') # Load your dataset\n",
    "pre.label_entities_conll_with_linebreaks(df)\n"
   ]
  }
 ],
 "metadata": {
  "language_info": {
   "name": "python"
  }
 },
 "nbformat": 4,
 "nbformat_minor": 2
}
